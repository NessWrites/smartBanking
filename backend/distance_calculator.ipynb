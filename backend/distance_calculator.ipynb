{
 "cells": [
  {
   "cell_type": "code",
   "execution_count": 1,
   "metadata": {},
   "outputs": [],
   "source": [
    "from selenium import webdriver\n",
    "from selenium.webdriver.chrome.service import Service\n",
    "from webdriver_manager.chrome import ChromeDriverManager\n",
    "import time\n",
    "import re\n",
    "\n",
    "# Google Maps URL\n",
    "# return_address = \"Kamalpokhari\"\n",
    "# base_url = \"https://www.google.com/maps\"\n",
    "# search_url = f\"{base_url}/place/{return_address}\"\n",
    "\n",
    "# Class Definition\n",
    "class get_coordinates():\n",
    "    def __init__(self, location):\n",
    "        self.parameter = location\n",
    "        self.return_add = location\n",
    "        base_url = \"https://www.google.com/maps\"\n",
    "        self.search_url = f\"{base_url}/place/{self.return_add}\"\n",
    "        print(self.return_add)\n",
    "        \n",
    "    \n",
    "    \n",
    "    def get_url_and_coordinates(self):\n",
    "        # Initialize WebDriver with Service\n",
    "        service = Service(ChromeDriverManager().install())\n",
    "        driver = webdriver.Chrome(service=service)\n",
    "        driver.get(self.search_url)\n",
    "        \n",
    "        # Minimize the browser window\n",
    "        driver.minimize_window()\n",
    "        \n",
    "        time.sleep(10)  # Wait for the page to load\n",
    "        \n",
    "        try:\n",
    "            # Get the current URL\n",
    "            current_url = driver.current_url\n",
    "            print(\"Current URL:\", current_url)\n",
    "            \n",
    "            # Extract the two numbers after \"/@\"\n",
    "            pattern = rf\"/@([\\d.]+),([\\d.]+)\"\n",
    "            match = re.search(pattern, current_url)\n",
    "\n",
    "            if match:\n",
    "                latitude = float(match.group(1))\n",
    "                longitude = float(match.group(2))\n",
    "                return longitude, latitude\n",
    "                print(f\"Extracted coordinates: Latitude = {latitude}, Longitude = {longitude}\")\n",
    "            else:\n",
    "                print(\"Pattern not found in the URL.\")\n",
    "        \n",
    "        except Exception as e:\n",
    "            print(f\"Error: {e}\")\n",
    "        \n",
    "        finally:\n",
    "            # Close the driver\n",
    "            driver.quit()\n",
    "\n",
    "\n"
   ]
  },
  {
   "cell_type": "code",
   "execution_count": 2,
   "metadata": {},
   "outputs": [],
   "source": [
    "class distance():\n",
    "    def __init__(self, previous_location,home_location, current_location):\n",
    "        self.previous_location = previous_location\n",
    "        self.home_location = home_location\n",
    "        self.current_location = current_location\n",
    "        \n",
    "\n",
    "    \n",
    "    def get_home_location(self):\n",
    "        \n",
    "        return get_coordinates(self.home_location).get_url_and_coordinates()\n",
    "    \n",
    "    def get_current_location(self):\n",
    "\n",
    "        return get_coordinates(self.current_location).get_url_and_coordinates()\n",
    "    \n",
    "    def get_previous_location(self):\n",
    "        if not self.previous_location :\n",
    "            self.get_home_location(self)\n",
    "        else:\n",
    "            get_coordinates(self.previous_location).get_url_and_coordinates()\n",
    "            \n",
    "            "
   ]
  },
  {
   "cell_type": "code",
   "execution_count": 3,
   "metadata": {},
   "outputs": [
    {
     "name": "stdout",
     "output_type": "stream",
     "text": [
      "Tokha\n",
      "Current URL: https://www.google.com/maps/place/%E0%A4%9F%E0%A5%8B%E0%A4%96%E0%A4%BE/@27.7748678,85.3285058,13z/data=!3m1!4b1!4m6!3m5!1s0x39eb1ec21a0ec5f1:0x21faccfa9ccf1956!8m2!3d27.7700542!4d85.3292981!16s%2Fg%2F11bwcmk0k_?entry=ttu&g_ep=EgoyMDI0MTEyNC4xIKXMDSoASAFQAw%3D%3D\n",
      "Samakhusi\n",
      "Current URL: https://www.google.com/maps/place/%E0%A4%B8%E0%A4%BE%E0%A4%AE%E0%A4%BE%E0%A4%96%E0%A5%81%E0%A4%B8%E0%A5%80,+%E0%A4%95%E0%A4%BE%E0%A4%A0%E0%A4%AE%E0%A4%BE%E0%A4%A1%E0%A5%8C%E0%A4%81+44600/@27.7282241,85.3181077,15z/data=!3m1!4b1!4m6!3m5!1s0x39eb191ed757779f:0xa3fb7fed922d73e8!8m2!3d27.7272671!4d85.317499!16s%2Fm%2F080d122?entry=ttu&g_ep=EgoyMDI0MTEyNC4xIKXMDSoASAFQAw%3D%3D\n",
      "Tokha\n",
      "Current URL: https://www.google.com/maps/place/%E0%A4%9F%E0%A5%8B%E0%A4%96%E0%A4%BE/@27.7748678,85.3285058,13z/data=!3m1!4b1!4m6!3m5!1s0x39eb1ec21a0ec5f1:0x21faccfa9ccf1956!8m2!3d27.7700542!4d85.3292981!16s%2Fg%2F11bwcmk0k_?entry=ttu&g_ep=EgoyMDI0MTEyNC4xIKXMDSoASAFQAw%3D%3D\n",
      "Samakhusi\n",
      "Current URL: https://www.google.com/maps/place/%E0%A4%B8%E0%A4%BE%E0%A4%AE%E0%A4%BE%E0%A4%96%E0%A5%81%E0%A4%B8%E0%A5%80,+%E0%A4%95%E0%A4%BE%E0%A4%A0%E0%A4%AE%E0%A4%BE%E0%A4%A1%E0%A5%8C%E0%A4%81+44600/@27.7282241,85.3181077,15z/data=!3m1!4b1!4m6!3m5!1s0x39eb191ed757779f:0xa3fb7fed922d73e8!8m2!3d27.7272671!4d85.317499!16s%2Fm%2F080d122?entry=ttu&g_ep=EgoyMDI0MTEyNC4xIKXMDSoASAFQAw%3D%3D\n"
     ]
    }
   ],
   "source": [
    "demo = distance('', 'Tokha', 'Samakhusi')\n",
    "\n",
    "home_long, home_lat = demo.get_home_location()\n",
    "current_long, current_lat = demo.get_current_location()"
   ]
  },
  {
   "cell_type": "code",
   "execution_count": 6,
   "metadata": {},
   "outputs": [],
   "source": [
    "import mpu"
   ]
  },
  {
   "cell_type": "code",
   "execution_count": 7,
   "metadata": {},
   "outputs": [
    {
     "name": "stdout",
     "output_type": "stream",
     "text": [
      "3.29 miles\n",
      "5.29 km\n"
     ]
    }
   ],
   "source": [
    "dist = round(mpu.haversine_distance((home_lat, home_long), (current_lat, current_long)),2)\n",
    "# Convert to miles)\n",
    "dist_miles = round((dist * 0.621371),2)\n",
    "print(dist_miles, \"miles\")\n",
    "print(dist, \"km\") "
   ]
  },
  {
   "cell_type": "code",
   "execution_count": null,
   "metadata": {},
   "outputs": [],
   "source": []
  }
 ],
 "metadata": {
  "kernelspec": {
   "display_name": "base",
   "language": "python",
   "name": "python3"
  },
  "language_info": {
   "codemirror_mode": {
    "name": "ipython",
    "version": 3
   },
   "file_extension": ".py",
   "mimetype": "text/x-python",
   "name": "python",
   "nbconvert_exporter": "python",
   "pygments_lexer": "ipython3",
   "version": "3.11.7"
  }
 },
 "nbformat": 4,
 "nbformat_minor": 2
}
